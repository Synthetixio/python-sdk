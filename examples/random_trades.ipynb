{
 "cells": [
  {
   "cell_type": "markdown",
   "metadata": {},
   "source": [
    "## Random trading activity\n",
    "\n",
    "Generate some random trading activity on OP Goerli testnet\n",
    "\n",
    "* Create a set of accounts\n",
    "* Fund those accounts\n",
    "* Generate random trading activity"
   ]
  },
  {
   "cell_type": "code",
   "execution_count": null,
   "metadata": {},
   "outputs": [],
   "source": [
    "import os\n",
    "import time\n",
    "import random\n",
    "from synthetix import Synthetix\n",
    "from dotenv import load_dotenv\n",
    "\n",
    "load_dotenv()"
   ]
  },
  {
   "cell_type": "code",
   "execution_count": null,
   "metadata": {},
   "outputs": [],
   "source": [
    "snx = Synthetix(\n",
    "    provider_rpc=os.getenv('TESTNET_RPC'), # An OP Goerli RPC endpoint\n",
    "    address=os.getenv('ADDRESS'), # A wallet address\n",
    "    private_key=os.getenv('PRIVATE_KEY'), # A wallet private key\n",
    "    network_id=420, # OP Goerli\n",
    ")"
   ]
  },
  {
   "cell_type": "code",
   "execution_count": null,
   "metadata": {},
   "outputs": [],
   "source": [
    "# print the available account IDs\n",
    "snx.perps.account_ids"
   ]
  },
  {
   "cell_type": "code",
   "execution_count": null,
   "metadata": {},
   "outputs": [],
   "source": [
    "# create a range of account_ids\n",
    "account_ids = range(100, 110)\n",
    "\n",
    "for account_id in account_ids:\n",
    "    id_tx = snx.perps.create_account(account_id=account_id, submit=True)\n"
   ]
  },
  {
   "cell_type": "code",
   "execution_count": null,
   "metadata": {},
   "outputs": [],
   "source": [
    "# put collateral in each account\n",
    "for account_id in account_ids:\n",
    "    modify_collateral = snx.perps.modify_collateral(50, market_id=0, account_id=account_id, submit=True)\n"
   ]
  },
  {
   "cell_type": "code",
   "execution_count": null,
   "metadata": {},
   "outputs": [],
   "source": [
    "# check the collateral in each account\n",
    "for account_id in account_ids:\n",
    "    collateral = snx.perps.get_collateral_balances(account_id=account_id)\n",
    "    print(f\"Account {account_id}: {collateral}\")"
   ]
  },
  {
   "cell_type": "code",
   "execution_count": null,
   "metadata": {},
   "outputs": [],
   "source": [
    "# randomize a wait and then a new transaction\n",
    "last_tx = {}\n",
    "\n",
    "while True:\n",
    "    order_size = random.uniform(0.01, 0.05)\n",
    "    order_side = random.choice([-1, 1])\n",
    "    market_name = random.choice(['ETH', 'BTC'])\n",
    "    order_size = order_size * order_side\n",
    "    wait_time = random.uniform(0.2, 1)\n",
    "\n",
    "    account_id = random.choice(account_ids)\n",
    "    if account_id in last_tx:\n",
    "        if last_tx[account_id] > time.time() - 60:\n",
    "            continue\n",
    "\n",
    "    try:\n",
    "        \n",
    "        commit = snx.perps.commit_order(order_size, market_name=market_name, account_id=account_id,  submit=True)\n",
    "    except Exception as e:\n",
    "        print(f'Tx failed: {e}')\n",
    "        continue\n",
    "\n",
    "    last_tx['account_id'] = time.time()\n",
    "    time.sleep(wait_time)\n"
   ]
  },
  {
   "cell_type": "code",
   "execution_count": null,
   "metadata": {},
   "outputs": [],
   "source": [
    "# close all positions\n",
    "for account_id in account_ids:\n",
    "    for market_name in ['ETH', 'BTC']:\n",
    "        open_position = snx.perps.get_open_position(account_id=account_id, market_name=market_name)\n",
    "        if abs(open_position['position_size']) > 0:\n",
    "            print(f'Closing position for {account_id} on {market_name}')\n",
    "            try:\n",
    "                close_position = snx.perps.commit_order(-open_position['position_size'], market_name=market_name, account_id=account_id, submit=True)\n",
    "            except Exception as e:\n",
    "                print(f'Tx failed: {e}')\n",
    "                continue\n"
   ]
  },
  {
   "cell_type": "code",
   "execution_count": null,
   "metadata": {},
   "outputs": [],
   "source": []
  }
 ],
 "metadata": {
  "kernelspec": {
   "display_name": "env",
   "language": "python",
   "name": "python3"
  },
  "language_info": {
   "codemirror_mode": {
    "name": "ipython",
    "version": 3
   },
   "file_extension": ".py",
   "mimetype": "text/x-python",
   "name": "python",
   "nbconvert_exporter": "python",
   "pygments_lexer": "ipython3",
   "version": "3.10.11"
  },
  "orig_nbformat": 4
 },
 "nbformat": 4,
 "nbformat_minor": 2
}
