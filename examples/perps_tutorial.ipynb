{
 "cells": [
  {
   "cell_type": "markdown",
   "metadata": {},
   "source": [
    "## Perps V3 Tutorial\n",
    "\n",
    "This tutorial will walk you through the basics of using the Synthetix python SDK to interact with Perps V3. It will cover the following:\n",
    "* Connecting to the Synthetix contracts\n",
    "\n",
    " "
   ]
  },
  {
   "cell_type": "code",
   "execution_count": 1,
   "metadata": {},
   "outputs": [
    {
     "data": {
      "text/plain": [
       "True"
      ]
     },
     "execution_count": 1,
     "metadata": {},
     "output_type": "execute_result"
    }
   ],
   "source": [
    "import os\n",
    "import time\n",
    "from synthetix import Synthetix\n",
    "from dotenv import load_dotenv\n",
    "\n",
    "load_dotenv()"
   ]
  },
  {
   "cell_type": "code",
   "execution_count": 2,
   "metadata": {},
   "outputs": [],
   "source": [
    "snx = Synthetix(\n",
    "    provider_rpc=os.getenv('TESTNET_RPC'), # An OP Goerli RPC endpoint\n",
    "    address=os.getenv('ADDRESS'), # A wallet address\n",
    "    private_key=os.getenv('PRIVATE_KEY'), # A wallet private key\n",
    "    network_id=420 # OP Goerli\n",
    ")"
   ]
  },
  {
   "cell_type": "code",
   "execution_count": 3,
   "metadata": {},
   "outputs": [
    {
     "data": {
      "text/plain": [
       "dict_keys(['PerpsV2MarketData', 'USDProxy', 'sUSD', 'PerpsMarketProxy', 'PerpsV2Market', 'AccountProxy'])"
      ]
     },
     "execution_count": 3,
     "metadata": {},
     "output_type": "execute_result"
    }
   ],
   "source": [
    "# print the available contract names\n",
    "snx.contracts.keys()\n"
   ]
  },
  {
   "cell_type": "code",
   "execution_count": 4,
   "metadata": {},
   "outputs": [
    {
     "name": "stdout",
     "output_type": "stream",
     "text": [
      "992.568402305990172293 sUSD\n",
      "151318.035943015179225061 sUSD (legacy)\n"
     ]
    }
   ],
   "source": [
    "# fetch balances of sUSD and legacy sUSD\n",
    "susd_balance = snx.get_susd_balance()\n",
    "susd_legacy_balance = snx.get_susd_balance(legacy=True)\n",
    "\n",
    "print(f\"{susd_balance['balance_usd']} sUSD\")\n",
    "print(f\"{susd_legacy_balance['balance_usd']} sUSD (legacy)\")\n"
   ]
  },
  {
   "cell_type": "code",
   "execution_count": 5,
   "metadata": {},
   "outputs": [
    {
     "data": {
      "text/plain": [
       "{'ETH': {'market_id': 100,\n",
       "  'market_name': 'ETH',\n",
       "  'skew': 1443200000000000000,\n",
       "  'size': 1554000000000000000,\n",
       "  'max_open_interest': 10000000000000000000000,\n",
       "  'current_funding_rate': -372455321458421,\n",
       "  'current_funding_velocity': 129888000000000,\n",
       "  'index_price': 1664809700000000000000},\n",
       " 'BTC': {'market_id': 200,\n",
       "  'market_name': 'BTC',\n",
       "  'skew': 0,\n",
       "  'size': 0,\n",
       "  'max_open_interest': 10000000000000000000000,\n",
       "  'current_funding_rate': 60103959374986,\n",
       "  'current_funding_velocity': 0,\n",
       "  'index_price': 26060495000000000000000}}"
      ]
     },
     "execution_count": 5,
     "metadata": {},
     "output_type": "execute_result"
    }
   ],
   "source": [
    "# display the markets\n",
    "snx.perps.markets_by_name"
   ]
  },
  {
   "cell_type": "code",
   "execution_count": 6,
   "metadata": {},
   "outputs": [
    {
     "name": "stdout",
     "output_type": "stream",
     "text": [
      "{'skew': 1443200000000000000, 'size': 1554000000000000000, 'max_open_interest': 10000000000000000000000, 'current_funding_rate': -372455321458421, 'current_funding_velocity': 129888000000000, 'index_price': 1664809700000000000000}\n"
     ]
    }
   ],
   "source": [
    "# fetch a fresh a market summary\n",
    "market = snx.perps.get_market_summary(100)\n",
    "print(market)"
   ]
  },
  {
   "cell_type": "code",
   "execution_count": 7,
   "metadata": {},
   "outputs": [
    {
     "name": "stdout",
     "output_type": "stream",
     "text": [
      "Default account: 69\n",
      "Balances: {'sUSD': 139833958720252274652, 'BTC': 0, 'ETH': 0}\n",
      "Margin info: {'total_collateral_value': 139833958720252274652, 'available_margin': 73978832391104213265, 'withdrawable_margin': 42985300791979406324, 'initial_margin_requirement': 16010257217140000000, 'maintenance_margin_requirement': 8505128608570000000, 'total_accumulated_liquidation_rewards': 14983287300000000000, 'max_liquidation_reward': 14983287300000000000}\n",
      "Available margin: 73.97883239110422\n",
      "Maintenance margin: 8.50512860857\n"
     ]
    }
   ],
   "source": [
    "# show your default account\n",
    "print(f'Default account: {snx.perps.default_account_id}')\n",
    "\n",
    "# get balances of collateral in your default account\n",
    "balances = snx.perps.get_collateral_balances()\n",
    "print(f'Balances: {balances}')\n",
    "\n",
    "# get info about your accounts margin\n",
    "margin_info = snx.perps.get_margin_info()\n",
    "print(f'Margin info: {margin_info}')\n",
    "\n",
    "print(f'Available margin: {margin_info[\"available_margin\"] / 1e18}')\n",
    "print(f'Maintenance margin: {margin_info[\"maintenance_margin_requirement\"] / 1e18}')"
   ]
  },
  {
   "cell_type": "code",
   "execution_count": 8,
   "metadata": {},
   "outputs": [
    {
     "name": "stdout",
     "output_type": "stream",
     "text": [
      "0 sUSD\n"
     ]
    },
    {
     "name": "stderr",
     "output_type": "stream",
     "text": [
      "2023-08-18 16:09:44,436 - Synthetix - INFO - Transferring 100 sUSD for 0x3239a95A9262034ca28b9a03133775f716f119f8\n",
      "2023-08-18 16:09:44,437 - Synthetix - INFO - modify_collateral tx: 0x00a3dd7d277b48ae2d2b2058420aa3fe64bfdfb1c031f93ebe055377c04c90ef\n"
     ]
    }
   ],
   "source": [
    "# modify collateral\n",
    "modify_collateral = snx.perps.modify_collateral(100, market_id=0, account_id=420, submit=True)"
   ]
  },
  {
   "cell_type": "code",
   "execution_count": null,
   "metadata": {},
   "outputs": [],
   "source": [
    "# get information about an open position\n",
    "position = snx.perps.get_open_position(market_name='ETH')\n",
    "print(position)"
   ]
  },
  {
   "cell_type": "code",
   "execution_count": null,
   "metadata": {},
   "outputs": [],
   "source": [
    "# you can use the market_id if it is known\n",
    "position = snx.perps.get_open_position(100)\n",
    "print(position)"
   ]
  },
  {
   "cell_type": "code",
   "execution_count": null,
   "metadata": {},
   "outputs": [],
   "source": [
    "# prepare a transaction\n",
    "# this method prepares a transaction that can be sent to the blockchain\n",
    "# the transaction is not signed\n",
    "order = snx.perps.commit_order(-0.5, market_name='ETH')\n",
    "print(order)"
   ]
  },
  {
   "cell_type": "code",
   "execution_count": null,
   "metadata": {},
   "outputs": [],
   "source": [
    "# use the `submit` flag to sign and submit the transaction to the provided RPC\n",
    "commit = snx.perps.commit_order(0.01, market_name='ETH', account_id=69, submit=True)\n"
   ]
  },
  {
   "cell_type": "code",
   "execution_count": null,
   "metadata": {},
   "outputs": [],
   "source": [
    "order = snx.perps.get_order()\n",
    "print(f\"{order['settlement_time'] - time.time()} until settlement\")"
   ]
  },
  {
   "cell_type": "code",
   "execution_count": null,
   "metadata": {},
   "outputs": [],
   "source": [
    "# settle order\n",
    "settle = snx.perps.settle_pyth_order(account_id=420, submit=True)\n"
   ]
  },
  {
   "cell_type": "code",
   "execution_count": null,
   "metadata": {},
   "outputs": [],
   "source": []
  }
 ],
 "metadata": {
  "kernelspec": {
   "display_name": "env",
   "language": "python",
   "name": "python3"
  },
  "language_info": {
   "codemirror_mode": {
    "name": "ipython",
    "version": 3
   },
   "file_extension": ".py",
   "mimetype": "text/x-python",
   "name": "python",
   "nbconvert_exporter": "python",
   "pygments_lexer": "ipython3",
   "version": "3.10.11"
  },
  "orig_nbformat": 4
 },
 "nbformat": 4,
 "nbformat_minor": 2
}
