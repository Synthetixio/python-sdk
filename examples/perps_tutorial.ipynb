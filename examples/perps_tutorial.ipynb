{
 "cells": [
  {
   "cell_type": "markdown",
   "metadata": {},
   "source": [
    "## Perps V3 Tutorial\n",
    "\n",
    "This tutorial will walk you through the basics of using the Synthetix python SDK to interact with Perps V3. It will cover the following:\n",
    "* Connecting to the Synthetix contracts\n",
    "\n",
    " "
   ]
  },
  {
   "cell_type": "code",
   "execution_count": 2,
   "metadata": {},
   "outputs": [
    {
     "data": {
      "text/plain": [
       "True"
      ]
     },
     "execution_count": 2,
     "metadata": {},
     "output_type": "execute_result"
    }
   ],
   "source": [
    "import os\n",
    "import time\n",
    "from synthetix import Synthetix\n",
    "from dotenv import load_dotenv\n",
    "\n",
    "load_dotenv()"
   ]
  },
  {
   "cell_type": "code",
   "execution_count": 6,
   "metadata": {},
   "outputs": [],
   "source": [
    "snx = Synthetix(\n",
    "    provider_rpc=os.getenv('TESTNET_RPC'), # An OP Goerli RPC endpoint\n",
    "    address=os.getenv('ADDRESS'), # A wallet address\n",
    "    private_key=os.getenv('PRIVATE_KEY'), # A wallet private key\n",
    "    network_id=420 # OP Goerli\n",
    ")"
   ]
  },
  {
   "cell_type": "code",
   "execution_count": 9,
   "metadata": {},
   "outputs": [
    {
     "data": {
      "text/plain": [
       "dict_keys(['PerpsV2MarketData', 'USDProxy', 'sUSD', 'PerpsMarketProxy', 'PerpsV2Market', 'AccountProxy'])"
      ]
     },
     "execution_count": 9,
     "metadata": {},
     "output_type": "execute_result"
    }
   ],
   "source": [
    "# print the available contract names\n",
    "snx.contracts.keys()\n"
   ]
  },
  {
   "cell_type": "code",
   "execution_count": 16,
   "metadata": {},
   "outputs": [
    {
     "name": "stdout",
     "output_type": "stream",
     "text": [
      "992.568402305990172293 sUSD\n",
      "151318.035943015179225061 sUSD (legacy)\n"
     ]
    }
   ],
   "source": [
    "# fetch balances of sUSD and legacy sUSD\n",
    "susd_balance = snx.get_susd_balance()\n",
    "susd_legacy_balance = snx.get_susd_balance(legacy=True)\n",
    "\n",
    "print(f\"{susd_balance['balance_usd']} sUSD\")\n",
    "print(f\"{susd_legacy_balance['balance_usd']} sUSD (legacy)\")\n"
   ]
  },
  {
   "cell_type": "code",
   "execution_count": 17,
   "metadata": {},
   "outputs": [
    {
     "name": "stdout",
     "output_type": "stream",
     "text": [
      "{'skew': 1543200000000000000, 'size': 1654000000000000000, 'max_open_interest': 10000000000000000000000, 'current_funding_rate': -379480679791752, 'current_funding_velocity': 138888000000000, 'index_price': 1658640500000000000000}\n"
     ]
    }
   ],
   "source": [
    "# get a market summary\n",
    "market = snx.perps.get_market_summary(100)\n",
    "print(market)"
   ]
  },
  {
   "cell_type": "code",
   "execution_count": 20,
   "metadata": {},
   "outputs": [
    {
     "name": "stdout",
     "output_type": "stream",
     "text": [
      "Default account: 69\n",
      "Balances: {'sUSD': 139833958720252274652, 'BTC': 0, 'ETH': 0}\n"
     ]
    }
   ],
   "source": [
    "# show your default account\n",
    "print(f'Default account: {snx.perps.default_account_id}')\n",
    "\n",
    "# get balances of collateral in your default account\n",
    "balances = snx.perps.get_collateral_balances()\n",
    "print(f'Balances: {balances}')"
   ]
  },
  {
   "cell_type": "code",
   "execution_count": 8,
   "metadata": {},
   "outputs": [
    {
     "name": "stdout",
     "output_type": "stream",
     "text": [
      "{'pnl': -71904026736662440131, 'accrued_funding': 700279455189426066, 'position_size': 900000000000000000}\n"
     ]
    }
   ],
   "source": [
    "position = snx.perps.get_open_position(100)\n",
    "print(position)"
   ]
  },
  {
   "cell_type": "code",
   "execution_count": 9,
   "metadata": {},
   "outputs": [
    {
     "name": "stdout",
     "output_type": "stream",
     "text": [
      "{'from': '0x3239a95A9262034ca28b9a03133775f716f119f8', 'to': '0xf272382cB3BE898A8CdB1A23BE056fA2Fcf4513b', 'chainId': 420, 'value': 0, 'gasPrice': 1000000000, 'nonce': 2137, 'data': '0x9f97886000000000000000000000000000000000000000000000000000000000000000640000000000000000000000000000000000000000000000000000000000000045fffffffffffffffffffffffffffffffffffffffffffffffff90fa4a62c4e0000000000000000000000000000000000000000000000000000000000000000000000000000000000000000000000000000000000000000005c80fefd54218c872d54524f59000000000000000000000000000000000000000000000000000000000000000000000000000000000000000000000000000000000000000000000000'}\n"
     ]
    }
   ],
   "source": [
    "order = snx.perps.commit_order(-0.5, market_name='ETH')\n",
    "print(order)"
   ]
  },
  {
   "cell_type": "code",
   "execution_count": 9,
   "metadata": {},
   "outputs": [
    {
     "data": {
      "text/plain": [
       "{'settlement_time': 1692295761,\n",
       " 'market_id': 100,\n",
       " 'account_id': 69,\n",
       " 'size_delta': 0,\n",
       " 'settlement_strategy_id': 0,\n",
       " 'acceptable_price': 1776044400000000030930,\n",
       " 'tracking_code': b'TROY\\x00\\x00\\x00\\x00\\x00\\x00\\x00\\x00\\x00\\x00\\x00\\x00\\x00\\x00\\x00\\x00\\x00\\x00\\x00\\x00\\x00\\x00\\x00\\x00\\x00\\x00\\x00\\x00',\n",
       " 'referrer': '0x0000000000000000000000000000000000000000',\n",
       " 'settlement_strategy': {'strategy_type': 0,\n",
       "  'settlement_delay': 15,\n",
       "  'settlement_window_duration': 600,\n",
       "  'price_window_duration': 180,\n",
       "  'price_verification_contract': '0xff1a0f4744e8582DF1aE09D5611b887B6a12925C',\n",
       "  'feed_id': b'\\xca\\x80\\xbam\\xc3.\\x08\\xd0o\\x1a\\xa8\\x86\\x01\\x1e\\xed\\x1dw\\xc7{\\xe9\\xebv\\x1c\\xc1\\rr\\xb7\\xd0\\xa2\\xfdW\\xa6',\n",
       "  'url': 'https://api.synthetix.io/pyth-testnet/api/get_vaa_ccip?data={data}',\n",
       "  'settlement_reward': 0,\n",
       "  'price_deviation_tolerance': 50000000000000000,\n",
       "  'disabled': False}}"
      ]
     },
     "execution_count": 9,
     "metadata": {},
     "output_type": "execute_result"
    }
   ],
   "source": [
    "snx.perps.get_order()"
   ]
  },
  {
   "cell_type": "code",
   "execution_count": 12,
   "metadata": {},
   "outputs": [
    {
     "name": "stderr",
     "output_type": "stream",
     "text": [
      "2023-08-17 12:09:04,454 - Synthetix - INFO - Committing order size 100000000000000000 to ETH (100) for 0x3239a95A9262034ca28b9a03133775f716f119f8\n",
      "2023-08-17 12:09:04,456 - Synthetix - INFO - commit_order tx: 0xed1091e6572f199943c7adc167058679f53cd1bde8749cb521e45676c8715364\n"
     ]
    }
   ],
   "source": [
    "# commit order\n",
    "commit = snx.perps.commit_order(0.1, market_name='ETH', account_id=69, execute_now=True)\n"
   ]
  },
  {
   "cell_type": "code",
   "execution_count": 15,
   "metadata": {},
   "outputs": [
    {
     "name": "stdout",
     "output_type": "stream",
     "text": [
      "11.9030020236969 until settlement\n"
     ]
    }
   ],
   "source": [
    "order = snx.perps.get_order()\n",
    "print(f\"{order['settlement_time'] - time.time()} until settlement\")"
   ]
  },
  {
   "cell_type": "code",
   "execution_count": 16,
   "metadata": {},
   "outputs": [
    {
     "name": "stderr",
     "output_type": "stream",
     "text": [
      "2023-08-17 12:09:11,026 - Synthetix - INFO - settlement time: 1692295761\n",
      "2023-08-17 12:09:11,028 - Synthetix - INFO - current time: 1692295751.028453\n",
      "2023-08-17 12:09:11,028 - Synthetix - INFO - Waiting 9.97104787826538 seconds until order can be settled\n",
      "2023-08-17 12:09:23,553 - Synthetix - INFO - Price update data not available, waiting 2 seconds and retrying\n",
      "2023-08-17 12:09:26,799 - Synthetix - INFO - Price update data not available, waiting 2 seconds and retrying\n",
      "2023-08-17 12:09:29,924 - Synthetix - INFO - Price update data not available, waiting 2 seconds and retrying\n",
      "2023-08-17 12:09:32,336 - Synthetix - INFO - price_update_data: 0x010000000001008ef14e899127e4cef01972f14ee1bcba00bbaed0721f0b9638bc089cf3280df95f5d9f50f5c5bbfd59817606c4300e8eb332234f2295833c7ab9816135a5fca30164de625600000000001aa27839d641b07743c0cb5f68c51f8cd31d2c0762bec00dc6fcd25433ef1ab5b6000000000c9b006d0150325748000300010001020005009d431cc2fd0ef4af4bc7c85fffae2f63d51b26d162179682d149ae619b1221c00bfc309467defa4b198c6b5bd59c08db4b9dfb27ddbcc32f31560f217b4ff8fc2b0000002878d273ef000000000361efaefffffff8000000288757c8a800000000037cd8330100000002000000020000000064de62560000000064de62550000000064de62530000002878f4c8ff0000000003473bbe0000000064de6253f42aaf884c7b1454894170be0aaf1db39b4b78d3a56a27fd49bd8b39ef2c33d7651071f8c7ab2321b6bdd3bc79b94a50841a92a6e065f9e3b8b9926a8fb5a5d10000002a5a6a589e000000000954b15efffffff80000002a6bd966200000000009db7ce20100000002000000020000000064de62560000000064de62530000000064de62530000002a5a6b09dd000000000955629d0000000064de62531801eb03803af0244523ee2a86c3f27b126abe8904db4b45a82adb5fe21708b4ca80ba6dc32e08d06f1aa886011eed1d77c77be9eb761cc10d72b7d0a2fd57a6000000287c4b46ff0000000003ef147efffffff8000000288e3bca980000000003ac11920100000002000000020000000064de62560000000064de62550000000064de6253000000287c4b46ff0000000003ef147e0000000064de62537ddf0d82af531f0af109d5e9ce9ec27ba9f00e9ee8ab71c912afffa16d715836b7abd25a76ddaffdf847224f03198ccb92723f90b2429cf33f0eecb96e352a86000000287b2ebc8e000000000619c5cdfffffff80000002885d109680000000006dee3180100000002000000020000000064de62560000000064de62550000000064de6254000000287b2683190000000006118c580000000064de6254d5a5c2f30e06bd6f38e01c2c4c8cdd7ca7c1c12d47a7336e459fc6db4171bae660fd61b2d90eba47f281505a88869b66133d9dc58f203b019f5aa47f1b39343e0000002bf621bd40000000002018769bfffffff80000002c0ef740b000000000202a7e5a0100000001000000020000000064de62560000000064de62530000000064de624b0000002bf621bd40000000002018769b0000000064de6253\n",
      "2023-08-17 12:09:32,338 - Synthetix - INFO - extra_data: 0x00000000000000000000000000000000000000000000000000000000000000450000000000000000000000000000000000000000000000000000000000000064\n",
      "2023-08-17 12:09:33,962 - Synthetix - INFO - Settling order for account 69\n",
      "2023-08-17 12:09:33,963 - Synthetix - INFO - settle tx: 0x6ee92747312e058eb4a9122500019a7fe0ace282fe07026ea45ad9b92ceed259\n"
     ]
    }
   ],
   "source": [
    "# settle order\n",
    "settle = snx.perps.settle_pyth_order(execute_now=True)\n"
   ]
  },
  {
   "cell_type": "code",
   "execution_count": null,
   "metadata": {},
   "outputs": [],
   "source": []
  }
 ],
 "metadata": {
  "kernelspec": {
   "display_name": "env",
   "language": "python",
   "name": "python3"
  },
  "language_info": {
   "codemirror_mode": {
    "name": "ipython",
    "version": 3
   },
   "file_extension": ".py",
   "mimetype": "text/x-python",
   "name": "python",
   "nbconvert_exporter": "python",
   "pygments_lexer": "ipython3",
   "version": "3.10.11"
  },
  "orig_nbformat": 4
 },
 "nbformat": 4,
 "nbformat_minor": 2
}
