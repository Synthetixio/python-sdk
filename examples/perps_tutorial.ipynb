{
 "cells": [
  {
   "cell_type": "markdown",
   "metadata": {},
   "source": [
    "## Perps V3 Tutorial\n",
    "\n",
    "This tutorial will walk you through the basics of using the Synthetix python SDK to interact with Perps V3. It will cover the following:\n",
    "* Connecting to the Synthetix contracts\n",
    "* Create a perps account\n",
    "* Check sUSD balances (V3 and legacy)\n",
    "* Fetch information about perps markets\n",
    "* Deposit and withdraw collateral from perps accounts\n",
    "* Commit an order\n",
    "* Check the status of an order\n",
    "* Settle an order using the Pyth price feed\n",
    " \n",
    "Before you start, make sure you copy the `.env.example` file, rename to `.env` and fill in the required values. You can get an Infura API key [here](https://infura.io/)."
   ]
  },
  {
   "cell_type": "code",
   "execution_count": null,
   "metadata": {},
   "outputs": [],
   "source": [
    "import os\n",
    "import time\n",
    "from synthetix import Synthetix\n",
    "from dotenv import load_dotenv\n",
    "\n",
    "load_dotenv()"
   ]
  },
  {
   "cell_type": "code",
   "execution_count": null,
   "metadata": {},
   "outputs": [],
   "source": [
    "snx = Synthetix(\n",
    "    provider_rpc=os.getenv('TESTNET_RPC'), # A Base Goerli RPC endpoint\n",
    "    address=os.getenv('ADDRESS'), # A wallet address\n",
    "    private_key=os.getenv('PRIVATE_KEY'), # A wallet private key\n",
    "    network_id=84531, # Base Goerli\n",
    ")"
   ]
  },
  {
   "cell_type": "code",
   "execution_count": null,
   "metadata": {},
   "outputs": [],
   "source": [
    "# print the available account IDs\n",
    "snx.perps.account_ids"
   ]
  },
  {
   "cell_type": "code",
   "execution_count": null,
   "metadata": {},
   "outputs": [],
   "source": [
    "# if you don't have any account ID, create one\n",
    "account_id = snx.perps.create_account(submit=True)"
   ]
  },
  {
   "cell_type": "code",
   "execution_count": null,
   "metadata": {},
   "outputs": [],
   "source": [
    "# fetch the ids from the contract to confirm\n",
    "snx.perps.get_account_ids()"
   ]
  },
  {
   "cell_type": "code",
   "execution_count": null,
   "metadata": {},
   "outputs": [],
   "source": [
    "# fetch balances of sUSD and legacy sUSD\n",
    "susd_balance = snx.get_susd_balance()\n",
    "\n",
    "print(f\"{susd_balance['balance']} sUSD\")\n"
   ]
  },
  {
   "cell_type": "code",
   "execution_count": null,
   "metadata": {},
   "outputs": [],
   "source": [
    "# display the markets\n",
    "snx.perps.markets_by_name"
   ]
  },
  {
   "cell_type": "code",
   "execution_count": null,
   "metadata": {},
   "outputs": [],
   "source": [
    "# fetch a fresh a market summary\n",
    "market = snx.perps.get_market_summary(market_name='ETH')\n",
    "print(market)"
   ]
  },
  {
   "cell_type": "code",
   "execution_count": null,
   "metadata": {},
   "outputs": [],
   "source": [
    "# show your default account\n",
    "print(f'Default account: {snx.perps.default_account_id}')\n",
    "\n",
    "# get balances of collateral in your default account\n",
    "balances = snx.perps.get_collateral_balances()\n",
    "print(f'Collateral balances: {balances}')\n",
    "\n",
    "# get info about your accounts margin\n",
    "margin_info = snx.perps.get_margin_info()\n",
    "print(f'Margin info: {margin_info}')"
   ]
  },
  {
   "cell_type": "code",
   "execution_count": null,
   "metadata": {},
   "outputs": [],
   "source": [
    "# modify collateral\n",
    "# the first argument is the amount of collateral to add or remove\n",
    "modify_collateral = snx.perps.modify_collateral(500, market_id=0, submit=True)"
   ]
  },
  {
   "cell_type": "code",
   "execution_count": null,
   "metadata": {},
   "outputs": [],
   "source": [
    "# get information about an open position\n",
    "position = snx.perps.get_open_position(market_name='ETH')\n",
    "print(position)"
   ]
  },
  {
   "cell_type": "code",
   "execution_count": null,
   "metadata": {},
   "outputs": [],
   "source": [
    "# prepare an order commitment\n",
    "# this prepares a 0.01 ETH order at the market price\n",
    "order = snx.perps.commit_order(0.01, market_name='ETH')\n",
    "print(order)"
   ]
  },
  {
   "cell_type": "code",
   "execution_count": null,
   "metadata": {},
   "outputs": [],
   "source": [
    "# get your order\n",
    "# after the transaction is confirmed, you will need to wait until `settlement_time` to settle the order\n",
    "order = snx.perps.get_order()\n",
    "print(order)\n",
    "print(f\"{order['settlement_time'] - time.time()} until settlement\")"
   ]
  },
  {
   "cell_type": "code",
   "execution_count": null,
   "metadata": {},
   "outputs": [],
   "source": [
    "# settle order\n",
    "# this function will wait until the order is past the settlement time\n",
    "# then, it will fetch the required price from pyth and settle the order\n",
    "settle = snx.perps.settle_order(submit=True)\n"
   ]
  }
 ],
 "metadata": {
  "kernelspec": {
   "display_name": "env",
   "language": "python",
   "name": "python3"
  },
  "language_info": {
   "codemirror_mode": {
    "name": "ipython",
    "version": 3
   },
   "file_extension": ".py",
   "mimetype": "text/x-python",
   "name": "python",
   "nbconvert_exporter": "python",
   "pygments_lexer": "ipython3",
   "version": "3.10.11"
  },
  "orig_nbformat": 4
 },
 "nbformat": 4,
 "nbformat_minor": 2
}
