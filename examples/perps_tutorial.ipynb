{
 "cells": [
  {
   "cell_type": "markdown",
   "metadata": {},
   "source": [
    "## Perps V3 Tutorial\n",
    "\n",
    "This tutorial will walk you through the basics of using the Synthetix python SDK to interact with Perps V3. It will cover the following:\n",
    "* Connecting to the Synthetix contracts\n",
    "\n",
    " "
   ]
  },
  {
   "cell_type": "code",
   "execution_count": 1,
   "metadata": {},
   "outputs": [
    {
     "data": {
      "text/plain": [
       "True"
      ]
     },
     "execution_count": 1,
     "metadata": {},
     "output_type": "execute_result"
    }
   ],
   "source": [
    "import os\n",
    "import time\n",
    "from synthetix import Synthetix\n",
    "from dotenv import load_dotenv\n",
    "\n",
    "load_dotenv()"
   ]
  },
  {
   "cell_type": "code",
   "execution_count": 2,
   "metadata": {},
   "outputs": [],
   "source": [
    "snx = Synthetix(\n",
    "    provider_rpc=os.getenv('TESTNET_RPC'), # An OP Goerli RPC endpoint\n",
    "    address=os.getenv('ADDRESS'), # A wallet address\n",
    "    private_key=os.getenv('PRIVATE_KEY'), # A wallet private key\n",
    "    network_id=420 # OP Goerli\n",
    ")"
   ]
  },
  {
   "cell_type": "code",
   "execution_count": 3,
   "metadata": {},
   "outputs": [
    {
     "data": {
      "text/plain": [
       "dict_keys(['PerpsV2MarketData', 'USDProxy', 'sUSD', 'PerpsMarketProxy', 'PerpsV2Market', 'AccountProxy'])"
      ]
     },
     "execution_count": 3,
     "metadata": {},
     "output_type": "execute_result"
    }
   ],
   "source": [
    "# print the available contract names\n",
    "snx.contracts.keys()\n"
   ]
  },
  {
   "cell_type": "code",
   "execution_count": null,
   "metadata": {},
   "outputs": [],
   "source": [
    "# fetch balances of sUSD and legacy sUSD\n",
    "susd_balance = snx.get_susd_balance()\n",
    "susd_legacy_balance = snx.get_susd_balance(legacy=True)\n",
    "\n",
    "print(f\"{susd_balance['balance_usd']} sUSD\")\n",
    "print(f\"{susd_legacy_balance['balance_usd']} sUSD (legacy)\")\n"
   ]
  },
  {
   "cell_type": "code",
   "execution_count": null,
   "metadata": {},
   "outputs": [],
   "source": [
    "# display the markets\n",
    "snx.perps.markets_by_name"
   ]
  },
  {
   "cell_type": "code",
   "execution_count": null,
   "metadata": {},
   "outputs": [],
   "source": [
    "# fetch a fresh a market summary\n",
    "market = snx.perps.get_market_summary(100)\n",
    "print(market)"
   ]
  },
  {
   "cell_type": "code",
   "execution_count": null,
   "metadata": {},
   "outputs": [],
   "source": [
    "# show your default account\n",
    "print(f'Default account: {snx.perps.default_account_id}')\n",
    "\n",
    "# get balances of collateral in your default account\n",
    "balances = snx.perps.get_collateral_balances()\n",
    "print(f'Balances: {balances}')\n",
    "\n",
    "# get info about your accounts margin\n",
    "margin_info = snx.perps.get_margin_info()\n",
    "print(f'Margin info: {margin_info}')"
   ]
  },
  {
   "cell_type": "code",
   "execution_count": null,
   "metadata": {},
   "outputs": [],
   "source": [
    "# modify collateral\n",
    "modify_collateral = snx.perps.modify_collateral(100, market_id=0, submit=True)"
   ]
  },
  {
   "cell_type": "code",
   "execution_count": null,
   "metadata": {},
   "outputs": [],
   "source": [
    "# get information about an open position\n",
    "position = snx.perps.get_open_position(market_name='ETH')\n",
    "print(position)"
   ]
  },
  {
   "cell_type": "code",
   "execution_count": null,
   "metadata": {},
   "outputs": [],
   "source": [
    "# you can use the market_id if it is known\n",
    "position = snx.perps.get_open_position(100)\n",
    "print(position)"
   ]
  },
  {
   "cell_type": "code",
   "execution_count": 4,
   "metadata": {},
   "outputs": [
    {
     "name": "stdout",
     "output_type": "stream",
     "text": [
      "{'from': '0x3239a95A9262034ca28b9a03133775f716f119f8', 'to': '0xf272382cB3BE898A8CdB1A23BE056fA2Fcf4513b', 'chainId': 420, 'value': 0, 'gasPrice': 1000000000, 'nonce': 2163, 'data': '0x9f97886000000000000000000000000000000000000000000000000000000000000000640000000000000000000000000000000000000000000000000000000000000045fffffffffffffffffffffffffffffffffffffffffffffffff90fa4a62c4e00000000000000000000000000000000000000000000000000000000000000000000000000000000000000000000000000000000000000000058553a901fceb4000053594e5448455449585f53444b000000000000000000000000000000000000000000000000000000000000000000000000000000000000000000000000000000'}\n"
     ]
    }
   ],
   "source": [
    "# prepare a transaction\n",
    "# this method prepares a transaction that can be sent to the blockchain\n",
    "# the transaction is not signed\n",
    "order = snx.perps.commit_order(-0.5, market_name='ETH')\n",
    "print(order)"
   ]
  },
  {
   "cell_type": "code",
   "execution_count": 5,
   "metadata": {},
   "outputs": [
    {
     "name": "stderr",
     "output_type": "stream",
     "text": [
      "2023-08-18 17:04:37,614 - Synthetix - INFO - Committing order size 10000000000000000 to ETH (100) for 0x3239a95A9262034ca28b9a03133775f716f119f8\n",
      "2023-08-18 17:04:37,615 - Synthetix - INFO - commit_order tx: 0xf5cdd317794bc80d3a474406067acd5142309bad6a0614bd60b03b2ebf26f318\n"
     ]
    }
   ],
   "source": [
    "# use the `submit` flag to sign and submit the transaction to the provided RPC\n",
    "commit = snx.perps.commit_order(0.01, market_name='ETH', submit=True)\n"
   ]
  },
  {
   "cell_type": "code",
   "execution_count": 6,
   "metadata": {},
   "outputs": [
    {
     "name": "stdout",
     "output_type": "stream",
     "text": [
      "13.719714164733887 until settlement\n"
     ]
    }
   ],
   "source": [
    "order = snx.perps.get_order()\n",
    "print(f\"{order['settlement_time'] - time.time()} until settlement\")"
   ]
  },
  {
   "cell_type": "code",
   "execution_count": 7,
   "metadata": {},
   "outputs": [
    {
     "name": "stderr",
     "output_type": "stream",
     "text": [
      "2023-08-18 17:05:04,238 - Synthetix - INFO - settlement time: 1692399893\n",
      "2023-08-18 17:05:04,239 - Synthetix - INFO - current time: 1692399904.239161\n",
      "2023-08-18 17:05:04,239 - Synthetix - INFO - Order is ready to be settled\n",
      "2023-08-18 17:05:05,140 - Synthetix - INFO - price_update_data: 0x01000000000100f210e5879bb33d9b20315895fd42041b723998cf330d03ea39d29fb3cb001a2723ef7100fa6396a12ca825c989292117c8b79b1dcfe69a9c823d50590e8fd7a90164dff91500000000001aa27839d641b07743c0cb5f68c51f8cd31d2c0762bec00dc6fcd25433ef1ab5b6000000000cc3d53a0150325748000300010001020005009d431cc2fd0ef4af4bc7c85fffae2f63d51b26d162179682d149ae619b1221c00bfc309467defa4b198c6b5bd59c08db4b9dfb27ddbcc32f31560f217b4ff8fc2b00000026ad72f7300000000005db2d10fffffff800000026ae34cc480000000005d31b830100000002000000020000000064dff9150000000064dff9150000000064dff91400000026ad4718b80000000007ef53880000000064dff913f42aaf884c7b1454894170be0aaf1db39b4b78d3a56a27fd49bd8b39ef2c33d7651071f8c7ab2321b6bdd3bc79b94a50841a92a6e065f9e3b8b9926a8fb5a5d10000002881e6b99b0000000008665e25fffffff800000028815afa38000000000a2789be0100000002000000020000000064dff9150000000064dff9150000000064dff9140000002881ea8a2b0000000008628d950000000064dff9141801eb03803af0244523ee2a86c3f27b126abe8904db4b45a82adb5fe21708b4ca80ba6dc32e08d06f1aa886011eed1d77c77be9eb761cc10d72b7d0a2fd57a600000026b6dbf267000000000322fe67fffffff800000026b7e89bc000000000030974d90100000002000000020000000064dff9150000000064dff9150000000064dff91400000026b7002fbf0000000003473bbf0000000064dff9147ddf0d82af531f0af109d5e9ce9ec27ba9f00e9ee8ab71c912afffa16d715836b7abd25a76ddaffdf847224f03198ccb92723f90b2429cf33f0eecb96e352a8600000026afdc7ff4000000000a6265b5fffffff800000026ae127f08000000000809c30c0100000002000000020000000064dff9150000000064dff9150000000064dff91400000026afdc7ff4000000000a6265b50000000064dff914d5a5c2f30e06bd6f38e01c2c4c8cdd7ca7c1c12d47a7336e459fc6db4171bae660fd61b2d90eba47f281505a88869b66133d9dc58f203b019f5aa47f1b39343e0000002a2603a217000000000aca3e30fffffff80000002a27f66e80000000000acac6a50100000001000000020000000064dff9150000000064dff9150000000064dff90e0000002a2603a217000000000aca3e300000000064dff90e\n",
      "2023-08-18 17:05:05,142 - Synthetix - INFO - extra_data: 0x00000000000000000000000000000000000000000000000000000000000000450000000000000000000000000000000000000000000000000000000000000064\n",
      "2023-08-18 17:05:06,339 - Synthetix - INFO - Settling order for account 69\n",
      "2023-08-18 17:05:06,340 - Synthetix - INFO - settle tx: 0x6fce6ba10023d1a4a23634af60cbacb0ae7aeb7f32069742531392327003ba6a\n"
     ]
    }
   ],
   "source": [
    "# settle order\n",
    "settle = snx.perps.settle_pyth_order(submit=True)\n"
   ]
  },
  {
   "cell_type": "code",
   "execution_count": null,
   "metadata": {},
   "outputs": [],
   "source": []
  }
 ],
 "metadata": {
  "kernelspec": {
   "display_name": "env",
   "language": "python",
   "name": "python3"
  },
  "language_info": {
   "codemirror_mode": {
    "name": "ipython",
    "version": 3
   },
   "file_extension": ".py",
   "mimetype": "text/x-python",
   "name": "python",
   "nbconvert_exporter": "python",
   "pygments_lexer": "ipython3",
   "version": "3.10.11"
  },
  "orig_nbformat": 4
 },
 "nbformat": 4,
 "nbformat_minor": 2
}
